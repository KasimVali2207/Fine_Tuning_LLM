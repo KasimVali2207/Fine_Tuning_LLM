{
  "nbformat": 4,
  "nbformat_minor": 0,
  "metadata": {
    "colab": {
      "provenance": []
    },
    "kernelspec": {
      "name": "python3",
      "display_name": "Python 3"
    },
    "language_info": {
      "name": "python"
    }
  },
  "cells": [
    {
      "cell_type": "code",
      "execution_count": 1,
      "metadata": {
        "colab": {
          "base_uri": "https://localhost:8080/"
        },
        "id": "wMROdH9vBtSp",
        "outputId": "90e44ed9-7e04-4ddf-9e2b-5dbcee405d8f"
      },
      "outputs": [
        {
          "output_type": "stream",
          "name": "stdout",
          "text": [
            "Collecting gradientai\n",
            "  Downloading gradientai-1.13.1-py3-none-any.whl (410 kB)\n",
            "\u001b[2K     \u001b[90m━━━━━━━━━━━━━━━━━━━━━━━━━━━━━━━━━━━━━━━━\u001b[0m \u001b[32m410.7/410.7 kB\u001b[0m \u001b[31m6.0 MB/s\u001b[0m eta \u001b[36m0:00:00\u001b[0m\n",
            "\u001b[?25hCollecting aenum>=3.1.11 (from gradientai)\n",
            "  Downloading aenum-3.1.15-py3-none-any.whl (137 kB)\n",
            "\u001b[2K     \u001b[90m━━━━━━━━━━━━━━━━━━━━━━━━━━━━━━━━━━━━━━━━\u001b[0m \u001b[32m137.6/137.6 kB\u001b[0m \u001b[31m13.0 MB/s\u001b[0m eta \u001b[36m0:00:00\u001b[0m\n",
            "\u001b[?25hRequirement already satisfied: pydantic<3,>=1.10.15 in /usr/local/lib/python3.10/dist-packages (from gradientai) (2.8.0)\n",
            "Requirement already satisfied: python-dateutil>=2.8.2 in /usr/local/lib/python3.10/dist-packages (from gradientai) (2.8.2)\n",
            "Requirement already satisfied: urllib3>=1.25.3 in /usr/local/lib/python3.10/dist-packages (from gradientai) (2.0.7)\n",
            "Requirement already satisfied: annotated-types>=0.4.0 in /usr/local/lib/python3.10/dist-packages (from pydantic<3,>=1.10.15->gradientai) (0.7.0)\n",
            "Requirement already satisfied: pydantic-core==2.20.0 in /usr/local/lib/python3.10/dist-packages (from pydantic<3,>=1.10.15->gradientai) (2.20.0)\n",
            "Requirement already satisfied: typing-extensions>=4.6.1 in /usr/local/lib/python3.10/dist-packages (from pydantic<3,>=1.10.15->gradientai) (4.12.2)\n",
            "Requirement already satisfied: six>=1.5 in /usr/local/lib/python3.10/dist-packages (from python-dateutil>=2.8.2->gradientai) (1.16.0)\n",
            "Installing collected packages: aenum, gradientai\n",
            "Successfully installed aenum-3.1.15 gradientai-1.13.1\n"
          ]
        }
      ],
      "source": [
        "!pip install gradientai --upgrade"
      ]
    },
    {
      "cell_type": "code",
      "source": [
        "import os\n",
        "os.environ['GRADIENT_WORKSPACE_ID']='81407249-b437-4d64-9a91-0ee3a7ea9b79_workspace'\n",
        "os.environ['GRADIENT_ACCESS_TOKEN']='GVQKdC8hsrkGKFKyTmy4WXaQahCBMjhD'"
      ],
      "metadata": {
        "id": "yIKUsP4kBxDa"
      },
      "execution_count": 2,
      "outputs": []
    },
    {
      "cell_type": "code",
      "source": [
        "from gradientai import Gradient\n",
        "\n",
        "def main():\n",
        "    gradient = Gradient()\n",
        "\n",
        "    base_model = gradient.get_base_model(base_model_slug=\"nous-hermes2\")\n",
        "\n",
        "    new_model_adapter = base_model.create_model_adapter(\n",
        "        name=\"KasimValiModel\"\n",
        "    )\n",
        "    print(f\"Created model adapter with id {new_model_adapter.id}\")\n",
        "\n",
        "    sample_query = \"### Instruction: Who is Kasim Vali? \\n\\n ### Response:\"\n",
        "    print(f\"Asking: {sample_query}\")\n",
        "    ## Before Finetuning\n",
        "    completion = new_model_adapter.complete(query=sample_query, max_generated_token_count=100).generated_output\n",
        "    print(f\"Generated(before fine tuning): {completion}\")\n",
        "\n",
        "    samples=[\n",
        "        {\"inputs\":\"### Instruction: Who is Kasim Vali? \\n\\n### Response: Kasim is a popular mentor and youtuber who uploads videos on Data Science, AI, and LLM in his channel Kasim Vali\"},\n",
        "        {\"inputs\":\"### Instruction: Who is this person named Kasim Vali? \\n\\n### Response: Kasim Vali likes Data Science and AI, and makes videos on YouTube. He is also a mentor\"},\n",
        "        {\"inputs\":\"### Instruction: What do you know about Kasim Vali? \\n\\n### Response: Kasim Vali is a popular creator who specializes in the field of Data Science and his channel name is Kasim Vali\"},\n",
        "        {\"inputs\":\"### Instruction: Can you tell me about Kasim Vali? \\n\\n### Response: Kasim Vali is a YouTuber, video creator, and a creator who loves Data Science, AI, and LLMs\"}\n",
        "    ]\n",
        "\n",
        "    ## Lets define parameters for finetuning\n",
        "    num_epochs=3\n",
        "    count=0\n",
        "    while count < num_epochs:\n",
        "        print(f\"Fine tuning the model with iteration {count + 1}\")\n",
        "        new_model_adapter.fine_tune(samples=samples)\n",
        "        count += 1\n",
        "\n",
        "    # after fine tuning\n",
        "    completion = new_model_adapter.complete(query=sample_query, max_generated_token_count=100).generated_output\n",
        "    print(f\"Generated(after fine tuning): {completion}\")\n",
        "    new_model_adapter.delete()\n",
        "    gradient.close()\n",
        "\n",
        "if __name__ == \"__main__\":\n",
        "    main()\n"
      ],
      "metadata": {
        "colab": {
          "base_uri": "https://localhost:8080/"
        },
        "id": "wIqU5fs4Bw_g",
        "outputId": "087e88fc-1404-43a0-d366-68825ac78796"
      },
      "execution_count": 3,
      "outputs": [
        {
          "output_type": "stream",
          "name": "stdout",
          "text": [
            "Created model adapter with id b085b6a1-01b1-4330-b7a9-ebd67ff514a7_model_adapter\n",
            "Asking: ### Instruction: Who is Kasim Vali? \n",
            "\n",
            " ### Response:\n",
            "Generated(before fine tuning): Kasim Vali is a contemporary American poet, writer, and educator. He is known for his poetry collections \"The Lamentations of the Others\" and \"The Blood of the Serpent and the Sun,\" which explore themes of identity, loss, and the immigrant experience. Vali is also a professor of creative writing and literature at a university in the United States.\n",
            "Fine tuning the model with iteration 1\n",
            "Fine tuning the model with iteration 2\n",
            "Fine tuning the model with iteration 3\n",
            "Generated(after fine tuning):  Kasim is a popular creator who specializes in the field of Data Science, AI, and LLMs. Kasim has 411K subscribers on YouTube and 1.4M followers on Instagram.\n"
          ]
        }
      ]
    },
    {
      "cell_type": "code",
      "source": [],
      "metadata": {
        "id": "5pmJ_OXaBw8b"
      },
      "execution_count": null,
      "outputs": []
    },
    {
      "cell_type": "code",
      "source": [],
      "metadata": {
        "id": "QpuAh7L2Bwzl"
      },
      "execution_count": null,
      "outputs": []
    }
  ]
}